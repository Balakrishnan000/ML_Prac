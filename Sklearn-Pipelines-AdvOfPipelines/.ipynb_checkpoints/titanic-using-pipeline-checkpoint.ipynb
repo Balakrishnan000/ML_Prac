{
 "cells": [
  {
   "cell_type": "code",
   "execution_count": 1,
   "metadata": {},
   "outputs": [],
   "source": [
    "import numpy as np\n",
    "import pandas as pd"
   ]
  },
  {
   "cell_type": "code",
   "execution_count": 2,
   "metadata": {},
   "outputs": [],
   "source": [
    "from sklearn.model_selection import train_test_split\n",
    "from sklearn.compose import ColumnTransformer\n",
    "from sklearn.impute import SimpleImputer\n",
    "from sklearn.preprocessing import OneHotEncoder\n",
    "from sklearn.preprocessing import MinMaxScaler\n",
    "from sklearn.pipeline import Pipeline,make_pipeline\n",
    "from sklearn.feature_selection import SelectKBest,chi2\n",
    "from sklearn.tree import DecisionTreeClassifier"
   ]
  },
  {
   "cell_type": "code",
   "execution_count": 3,
   "metadata": {},
   "outputs": [],
   "source": [
    "df = pd.read_csv('train.csv')"
   ]
  },
  {
   "cell_type": "code",
   "execution_count": 4,
   "metadata": {},
   "outputs": [
    {
     "data": {
      "text/html": [
       "<div>\n",
       "<style scoped>\n",
       "    .dataframe tbody tr th:only-of-type {\n",
       "        vertical-align: middle;\n",
       "    }\n",
       "\n",
       "    .dataframe tbody tr th {\n",
       "        vertical-align: top;\n",
       "    }\n",
       "\n",
       "    .dataframe thead th {\n",
       "        text-align: right;\n",
       "    }\n",
       "</style>\n",
       "<table border=\"1\" class=\"dataframe\">\n",
       "  <thead>\n",
       "    <tr style=\"text-align: right;\">\n",
       "      <th></th>\n",
       "      <th>PassengerId</th>\n",
       "      <th>Survived</th>\n",
       "      <th>Pclass</th>\n",
       "      <th>Name</th>\n",
       "      <th>Sex</th>\n",
       "      <th>Age</th>\n",
       "      <th>SibSp</th>\n",
       "      <th>Parch</th>\n",
       "      <th>Ticket</th>\n",
       "      <th>Fare</th>\n",
       "      <th>Cabin</th>\n",
       "      <th>Embarked</th>\n",
       "    </tr>\n",
       "  </thead>\n",
       "  <tbody>\n",
       "    <tr>\n",
       "      <th>0</th>\n",
       "      <td>1</td>\n",
       "      <td>0</td>\n",
       "      <td>3</td>\n",
       "      <td>Braund, Mr. Owen Harris</td>\n",
       "      <td>male</td>\n",
       "      <td>22.0</td>\n",
       "      <td>1</td>\n",
       "      <td>0</td>\n",
       "      <td>A/5 21171</td>\n",
       "      <td>7.2500</td>\n",
       "      <td>NaN</td>\n",
       "      <td>S</td>\n",
       "    </tr>\n",
       "    <tr>\n",
       "      <th>1</th>\n",
       "      <td>2</td>\n",
       "      <td>1</td>\n",
       "      <td>1</td>\n",
       "      <td>Cumings, Mrs. John Bradley (Florence Briggs Th...</td>\n",
       "      <td>female</td>\n",
       "      <td>38.0</td>\n",
       "      <td>1</td>\n",
       "      <td>0</td>\n",
       "      <td>PC 17599</td>\n",
       "      <td>71.2833</td>\n",
       "      <td>C85</td>\n",
       "      <td>C</td>\n",
       "    </tr>\n",
       "    <tr>\n",
       "      <th>2</th>\n",
       "      <td>3</td>\n",
       "      <td>1</td>\n",
       "      <td>3</td>\n",
       "      <td>Heikkinen, Miss. Laina</td>\n",
       "      <td>female</td>\n",
       "      <td>26.0</td>\n",
       "      <td>0</td>\n",
       "      <td>0</td>\n",
       "      <td>STON/O2. 3101282</td>\n",
       "      <td>7.9250</td>\n",
       "      <td>NaN</td>\n",
       "      <td>S</td>\n",
       "    </tr>\n",
       "    <tr>\n",
       "      <th>3</th>\n",
       "      <td>4</td>\n",
       "      <td>1</td>\n",
       "      <td>1</td>\n",
       "      <td>Futrelle, Mrs. Jacques Heath (Lily May Peel)</td>\n",
       "      <td>female</td>\n",
       "      <td>35.0</td>\n",
       "      <td>1</td>\n",
       "      <td>0</td>\n",
       "      <td>113803</td>\n",
       "      <td>53.1000</td>\n",
       "      <td>C123</td>\n",
       "      <td>S</td>\n",
       "    </tr>\n",
       "    <tr>\n",
       "      <th>4</th>\n",
       "      <td>5</td>\n",
       "      <td>0</td>\n",
       "      <td>3</td>\n",
       "      <td>Allen, Mr. William Henry</td>\n",
       "      <td>male</td>\n",
       "      <td>35.0</td>\n",
       "      <td>0</td>\n",
       "      <td>0</td>\n",
       "      <td>373450</td>\n",
       "      <td>8.0500</td>\n",
       "      <td>NaN</td>\n",
       "      <td>S</td>\n",
       "    </tr>\n",
       "  </tbody>\n",
       "</table>\n",
       "</div>"
      ],
      "text/plain": [
       "   PassengerId  Survived  Pclass  \\\n",
       "0            1         0       3   \n",
       "1            2         1       1   \n",
       "2            3         1       3   \n",
       "3            4         1       1   \n",
       "4            5         0       3   \n",
       "\n",
       "                                                Name     Sex   Age  SibSp  \\\n",
       "0                            Braund, Mr. Owen Harris    male  22.0      1   \n",
       "1  Cumings, Mrs. John Bradley (Florence Briggs Th...  female  38.0      1   \n",
       "2                             Heikkinen, Miss. Laina  female  26.0      0   \n",
       "3       Futrelle, Mrs. Jacques Heath (Lily May Peel)  female  35.0      1   \n",
       "4                           Allen, Mr. William Henry    male  35.0      0   \n",
       "\n",
       "   Parch            Ticket     Fare Cabin Embarked  \n",
       "0      0         A/5 21171   7.2500   NaN        S  \n",
       "1      0          PC 17599  71.2833   C85        C  \n",
       "2      0  STON/O2. 3101282   7.9250   NaN        S  \n",
       "3      0            113803  53.1000  C123        S  \n",
       "4      0            373450   8.0500   NaN        S  "
      ]
     },
     "execution_count": 4,
     "metadata": {},
     "output_type": "execute_result"
    }
   ],
   "source": [
    "df.head()"
   ]
  },
  {
   "cell_type": "markdown",
   "metadata": {},
   "source": [
    "# Let's Plan"
   ]
  },
  {
   "cell_type": "code",
   "execution_count": 5,
   "metadata": {},
   "outputs": [],
   "source": [
    "df.drop(columns=['PassengerId','Name','Ticket','Cabin'],inplace=True)"
   ]
  },
  {
   "cell_type": "code",
   "execution_count": 6,
   "metadata": {},
   "outputs": [],
   "source": [
    "# Step 1 -> train/test/split\n",
    "X_train,X_test,y_train,y_test = train_test_split(df.drop(columns=['Survived']),\n",
    "                                                 df['Survived'],\n",
    "                                                 test_size=0.2,\n",
    "                                                random_state=42)"
   ]
  },
  {
   "cell_type": "code",
   "execution_count": 7,
   "metadata": {},
   "outputs": [
    {
     "data": {
      "text/html": [
       "<div>\n",
       "<style scoped>\n",
       "    .dataframe tbody tr th:only-of-type {\n",
       "        vertical-align: middle;\n",
       "    }\n",
       "\n",
       "    .dataframe tbody tr th {\n",
       "        vertical-align: top;\n",
       "    }\n",
       "\n",
       "    .dataframe thead th {\n",
       "        text-align: right;\n",
       "    }\n",
       "</style>\n",
       "<table border=\"1\" class=\"dataframe\">\n",
       "  <thead>\n",
       "    <tr style=\"text-align: right;\">\n",
       "      <th></th>\n",
       "      <th>Pclass</th>\n",
       "      <th>Sex</th>\n",
       "      <th>Age</th>\n",
       "      <th>SibSp</th>\n",
       "      <th>Parch</th>\n",
       "      <th>Fare</th>\n",
       "      <th>Embarked</th>\n",
       "    </tr>\n",
       "  </thead>\n",
       "  <tbody>\n",
       "    <tr>\n",
       "      <th>331</th>\n",
       "      <td>1</td>\n",
       "      <td>male</td>\n",
       "      <td>45.5</td>\n",
       "      <td>0</td>\n",
       "      <td>0</td>\n",
       "      <td>28.5000</td>\n",
       "      <td>S</td>\n",
       "    </tr>\n",
       "    <tr>\n",
       "      <th>733</th>\n",
       "      <td>2</td>\n",
       "      <td>male</td>\n",
       "      <td>23.0</td>\n",
       "      <td>0</td>\n",
       "      <td>0</td>\n",
       "      <td>13.0000</td>\n",
       "      <td>S</td>\n",
       "    </tr>\n",
       "    <tr>\n",
       "      <th>382</th>\n",
       "      <td>3</td>\n",
       "      <td>male</td>\n",
       "      <td>32.0</td>\n",
       "      <td>0</td>\n",
       "      <td>0</td>\n",
       "      <td>7.9250</td>\n",
       "      <td>S</td>\n",
       "    </tr>\n",
       "    <tr>\n",
       "      <th>704</th>\n",
       "      <td>3</td>\n",
       "      <td>male</td>\n",
       "      <td>26.0</td>\n",
       "      <td>1</td>\n",
       "      <td>0</td>\n",
       "      <td>7.8542</td>\n",
       "      <td>S</td>\n",
       "    </tr>\n",
       "    <tr>\n",
       "      <th>813</th>\n",
       "      <td>3</td>\n",
       "      <td>female</td>\n",
       "      <td>6.0</td>\n",
       "      <td>4</td>\n",
       "      <td>2</td>\n",
       "      <td>31.2750</td>\n",
       "      <td>S</td>\n",
       "    </tr>\n",
       "  </tbody>\n",
       "</table>\n",
       "</div>"
      ],
      "text/plain": [
       "     Pclass     Sex   Age  SibSp  Parch     Fare Embarked\n",
       "331       1    male  45.5      0      0  28.5000        S\n",
       "733       2    male  23.0      0      0  13.0000        S\n",
       "382       3    male  32.0      0      0   7.9250        S\n",
       "704       3    male  26.0      1      0   7.8542        S\n",
       "813       3  female   6.0      4      2  31.2750        S"
      ]
     },
     "execution_count": 7,
     "metadata": {},
     "output_type": "execute_result"
    }
   ],
   "source": [
    "X_train.head()"
   ]
  },
  {
   "cell_type": "code",
   "execution_count": 8,
   "metadata": {},
   "outputs": [
    {
     "data": {
      "text/plain": [
       "420    0\n",
       "317    0\n",
       "671    0\n",
       "1      1\n",
       "225    0\n",
       "Name: Survived, dtype: int64"
      ]
     },
     "execution_count": 8,
     "metadata": {},
     "output_type": "execute_result"
    }
   ],
   "source": [
    "y_train.sample(5)"
   ]
  },
  {
   "cell_type": "code",
   "execution_count": 9,
   "metadata": {},
   "outputs": [],
   "source": [
    "# imputation transformer\n",
    "trf1 = ColumnTransformer([\n",
    "    ('impute_age',SimpleImputer(),[2]),\n",
    "    ('impute_embarked',SimpleImputer(strategy='most_frequent'),[6])\n",
    "],remainder='passthrough')\n"
   ]
  },
  {
   "cell_type": "code",
   "execution_count": 10,
   "metadata": {},
   "outputs": [],
   "source": [
    "# one hot encoding\n",
    "trf2 = ColumnTransformer([\n",
    "    ('ohe_sex_embarked',OneHotEncoder(sparse=False,handle_unknown='ignore'),[1,6])\n",
    "],remainder='passthrough')"
   ]
  },
  {
   "cell_type": "code",
   "execution_count": 11,
   "metadata": {},
   "outputs": [],
   "source": [
    "\n",
    "# Scaling\n",
    "trf3 = ColumnTransformer([\n",
    "    ('scale',MinMaxScaler(),slice(0,10))\n",
    "])\n"
   ]
  },
  {
   "cell_type": "code",
   "execution_count": 12,
   "metadata": {},
   "outputs": [],
   "source": [
    "# Feature selection\n",
    "trf4 = SelectKBest(score_func=chi2,k=8)"
   ]
  },
  {
   "cell_type": "code",
   "execution_count": 13,
   "metadata": {},
   "outputs": [],
   "source": [
    "# train the model\n",
    "trf5 = DecisionTreeClassifier()"
   ]
  },
  {
   "cell_type": "markdown",
   "metadata": {},
   "source": [
    "# Create Pipeline"
   ]
  },
  {
   "cell_type": "code",
   "execution_count": 26,
   "metadata": {},
   "outputs": [],
   "source": [
    "pipe = Pipeline([\n",
    "    ('trf1',trf1),\n",
    "    ('trf2',trf2),\n",
    "    ('trf3',trf3),\n",
    "    ('trf4',trf4),\n",
    "    ('trf5',trf5)\n",
    "])"
   ]
  },
  {
   "cell_type": "markdown",
   "metadata": {},
   "source": [
    "# Pipeline Vs make_pipeline\n",
    "\n",
    "Pipeline requires naming of steps, make_pipeline does not.\n",
    "\n",
    "(Same applies to ColumnTransformer vs make_column_transformer)"
   ]
  },
  {
   "cell_type": "code",
   "execution_count": 15,
   "metadata": {},
   "outputs": [],
   "source": [
    "# Alternate Syntax\n",
    "pipe = make_pipeline(trf1,trf2,trf3,trf4,trf5)"
   ]
  },
  {
   "cell_type": "code",
   "execution_count": 16,
   "metadata": {},
   "outputs": [
    {
     "data": {
      "text/plain": [
       "Pipeline(steps=[('columntransformer-1',\n",
       "                 ColumnTransformer(remainder='passthrough',\n",
       "                                   transformers=[('impute_age', SimpleImputer(),\n",
       "                                                  [2]),\n",
       "                                                 ('impute_embarked',\n",
       "                                                  SimpleImputer(strategy='most_frequent'),\n",
       "                                                  [6])])),\n",
       "                ('columntransformer-2',\n",
       "                 ColumnTransformer(remainder='passthrough',\n",
       "                                   transformers=[('ohe_sex_embarked',\n",
       "                                                  OneHotEncoder(handle_unknown='ignore',\n",
       "                                                                sparse=False),\n",
       "                                                  [1, 6])])),\n",
       "                ('columntransformer-3',\n",
       "                 ColumnTransformer(transformers=[('scale', MinMaxScaler(),\n",
       "                                                  slice(0, 10, None))])),\n",
       "                ('selectkbest',\n",
       "                 SelectKBest(k=8,\n",
       "                             score_func=<function chi2 at 0x000000892E063700>)),\n",
       "                ('decisiontreeclassifier', DecisionTreeClassifier())])"
      ]
     },
     "execution_count": 16,
     "metadata": {},
     "output_type": "execute_result"
    }
   ],
   "source": [
    "# train\n",
    "pipe.fit(X_train,y_train)"
   ]
  },
  {
   "cell_type": "markdown",
   "metadata": {},
   "source": [
    "# Explore the Pipeline"
   ]
  },
  {
   "cell_type": "code",
   "execution_count": 17,
   "metadata": {},
   "outputs": [
    {
     "data": {
      "text/plain": [
       "{'columntransformer-1': ColumnTransformer(remainder='passthrough',\n",
       "                   transformers=[('impute_age', SimpleImputer(), [2]),\n",
       "                                 ('impute_embarked',\n",
       "                                  SimpleImputer(strategy='most_frequent'),\n",
       "                                  [6])]),\n",
       " 'columntransformer-2': ColumnTransformer(remainder='passthrough',\n",
       "                   transformers=[('ohe_sex_embarked',\n",
       "                                  OneHotEncoder(handle_unknown='ignore',\n",
       "                                                sparse=False),\n",
       "                                  [1, 6])]),\n",
       " 'columntransformer-3': ColumnTransformer(transformers=[('scale', MinMaxScaler(), slice(0, 10, None))]),\n",
       " 'selectkbest': SelectKBest(k=8, score_func=<function chi2 at 0x000000892E063700>),\n",
       " 'decisiontreeclassifier': DecisionTreeClassifier()}"
      ]
     },
     "execution_count": 17,
     "metadata": {},
     "output_type": "execute_result"
    }
   ],
   "source": [
    "# Code here\n",
    "pipe.named_steps"
   ]
  },
  {
   "cell_type": "code",
   "execution_count": 18,
   "metadata": {},
   "outputs": [],
   "source": [
    "# Display Pipeline\n",
    "\n",
    "from sklearn import set_config\n",
    "set_config(display='diagram')"
   ]
  },
  {
   "cell_type": "code",
   "execution_count": 19,
   "metadata": {},
   "outputs": [],
   "source": [
    "# Predict\n",
    "y_pred = pipe.predict(X_test)"
   ]
  },
  {
   "cell_type": "code",
   "execution_count": 20,
   "metadata": {},
   "outputs": [
    {
     "data": {
      "text/plain": [
       "array([1, 0, 0, 0, 1, 0, 0, 0, 0, 0, 0, 0, 0, 1, 0, 0, 0, 0, 0, 0, 0, 0,\n",
       "       0, 0, 0, 0, 1, 0, 0, 0, 0, 0, 1, 0, 0, 1, 0, 0, 1, 0, 0, 0, 0, 0,\n",
       "       1, 0, 0, 0, 0, 1, 1, 0, 0, 0, 0, 0, 0, 1, 0, 0, 0, 0, 0, 0, 0, 0,\n",
       "       0, 0, 1, 1, 0, 1, 1, 1, 0, 0, 0, 1, 0, 0, 0, 0, 1, 0, 1, 1, 1, 1,\n",
       "       0, 0, 0, 0, 0, 0, 0, 0, 0, 0, 0, 0, 0, 0, 1, 0, 0, 0, 0, 0, 0, 1,\n",
       "       0, 0, 1, 0, 0, 0, 1, 1, 0, 0, 0, 1, 0, 0, 0, 1, 0, 1, 1, 0, 0, 1,\n",
       "       0, 0, 1, 1, 1, 0, 0, 0, 0, 0, 0, 0, 0, 0, 0, 0, 1, 0, 1, 0, 0, 0,\n",
       "       0, 0, 0, 0, 0, 0, 1, 0, 0, 1, 0, 1, 0, 0, 0, 0, 1, 0, 0, 1, 0, 1,\n",
       "       0, 0, 0], dtype=int64)"
      ]
     },
     "execution_count": 20,
     "metadata": {},
     "output_type": "execute_result"
    }
   ],
   "source": [
    "y_pred"
   ]
  },
  {
   "cell_type": "code",
   "execution_count": 21,
   "metadata": {},
   "outputs": [
    {
     "data": {
      "text/plain": [
       "0.6256983240223464"
      ]
     },
     "execution_count": 21,
     "metadata": {},
     "output_type": "execute_result"
    }
   ],
   "source": [
    "from sklearn.metrics import accuracy_score\n",
    "accuracy_score(y_test,y_pred)"
   ]
  },
  {
   "cell_type": "markdown",
   "metadata": {},
   "source": [
    "# Cross Validation using Pipeline"
   ]
  },
  {
   "cell_type": "code",
   "execution_count": 22,
   "metadata": {},
   "outputs": [
    {
     "data": {
      "text/plain": [
       "0.6391214419383433"
      ]
     },
     "execution_count": 22,
     "metadata": {},
     "output_type": "execute_result"
    }
   ],
   "source": [
    "# cross validation using cross_val_score\n",
    "from sklearn.model_selection import cross_val_score\n",
    "cross_val_score(pipe, X_train, y_train, cv=5, scoring='accuracy').mean()"
   ]
  },
  {
   "cell_type": "markdown",
   "metadata": {},
   "source": [
    "# GridSearch using Pipeline"
   ]
  },
  {
   "cell_type": "code",
   "execution_count": 23,
   "metadata": {},
   "outputs": [],
   "source": [
    "# gridsearchcv\n",
    "params = {\n",
    "    'trf5__max_depth':[1,2,3,4,5,None]\n",
    "}"
   ]
  },
  {
   "cell_type": "code",
   "execution_count": 27,
   "metadata": {},
   "outputs": [
    {
     "data": {
      "text/html": [
       "<style>#sk-7622c42c-517b-45d9-9592-db72b99f9598 {color: black;background-color: white;}#sk-7622c42c-517b-45d9-9592-db72b99f9598 pre{padding: 0;}#sk-7622c42c-517b-45d9-9592-db72b99f9598 div.sk-toggleable {background-color: white;}#sk-7622c42c-517b-45d9-9592-db72b99f9598 label.sk-toggleable__label {cursor: pointer;display: block;width: 100%;margin-bottom: 0;padding: 0.3em;box-sizing: border-box;text-align: center;}#sk-7622c42c-517b-45d9-9592-db72b99f9598 label.sk-toggleable__label-arrow:before {content: \"▸\";float: left;margin-right: 0.25em;color: #696969;}#sk-7622c42c-517b-45d9-9592-db72b99f9598 label.sk-toggleable__label-arrow:hover:before {color: black;}#sk-7622c42c-517b-45d9-9592-db72b99f9598 div.sk-estimator:hover label.sk-toggleable__label-arrow:before {color: black;}#sk-7622c42c-517b-45d9-9592-db72b99f9598 div.sk-toggleable__content {max-height: 0;max-width: 0;overflow: hidden;text-align: left;background-color: #f0f8ff;}#sk-7622c42c-517b-45d9-9592-db72b99f9598 div.sk-toggleable__content pre {margin: 0.2em;color: black;border-radius: 0.25em;background-color: #f0f8ff;}#sk-7622c42c-517b-45d9-9592-db72b99f9598 input.sk-toggleable__control:checked~div.sk-toggleable__content {max-height: 200px;max-width: 100%;overflow: auto;}#sk-7622c42c-517b-45d9-9592-db72b99f9598 input.sk-toggleable__control:checked~label.sk-toggleable__label-arrow:before {content: \"▾\";}#sk-7622c42c-517b-45d9-9592-db72b99f9598 div.sk-estimator input.sk-toggleable__control:checked~label.sk-toggleable__label {background-color: #d4ebff;}#sk-7622c42c-517b-45d9-9592-db72b99f9598 div.sk-label input.sk-toggleable__control:checked~label.sk-toggleable__label {background-color: #d4ebff;}#sk-7622c42c-517b-45d9-9592-db72b99f9598 input.sk-hidden--visually {border: 0;clip: rect(1px 1px 1px 1px);clip: rect(1px, 1px, 1px, 1px);height: 1px;margin: -1px;overflow: hidden;padding: 0;position: absolute;width: 1px;}#sk-7622c42c-517b-45d9-9592-db72b99f9598 div.sk-estimator {font-family: monospace;background-color: #f0f8ff;border: 1px dotted black;border-radius: 0.25em;box-sizing: border-box;margin-bottom: 0.5em;}#sk-7622c42c-517b-45d9-9592-db72b99f9598 div.sk-estimator:hover {background-color: #d4ebff;}#sk-7622c42c-517b-45d9-9592-db72b99f9598 div.sk-parallel-item::after {content: \"\";width: 100%;border-bottom: 1px solid gray;flex-grow: 1;}#sk-7622c42c-517b-45d9-9592-db72b99f9598 div.sk-label:hover label.sk-toggleable__label {background-color: #d4ebff;}#sk-7622c42c-517b-45d9-9592-db72b99f9598 div.sk-serial::before {content: \"\";position: absolute;border-left: 1px solid gray;box-sizing: border-box;top: 2em;bottom: 0;left: 50%;}#sk-7622c42c-517b-45d9-9592-db72b99f9598 div.sk-serial {display: flex;flex-direction: column;align-items: center;background-color: white;padding-right: 0.2em;padding-left: 0.2em;}#sk-7622c42c-517b-45d9-9592-db72b99f9598 div.sk-item {z-index: 1;}#sk-7622c42c-517b-45d9-9592-db72b99f9598 div.sk-parallel {display: flex;align-items: stretch;justify-content: center;background-color: white;}#sk-7622c42c-517b-45d9-9592-db72b99f9598 div.sk-parallel::before {content: \"\";position: absolute;border-left: 1px solid gray;box-sizing: border-box;top: 2em;bottom: 0;left: 50%;}#sk-7622c42c-517b-45d9-9592-db72b99f9598 div.sk-parallel-item {display: flex;flex-direction: column;position: relative;background-color: white;}#sk-7622c42c-517b-45d9-9592-db72b99f9598 div.sk-parallel-item:first-child::after {align-self: flex-end;width: 50%;}#sk-7622c42c-517b-45d9-9592-db72b99f9598 div.sk-parallel-item:last-child::after {align-self: flex-start;width: 50%;}#sk-7622c42c-517b-45d9-9592-db72b99f9598 div.sk-parallel-item:only-child::after {width: 0;}#sk-7622c42c-517b-45d9-9592-db72b99f9598 div.sk-dashed-wrapped {border: 1px dashed gray;margin: 0 0.4em 0.5em 0.4em;box-sizing: border-box;padding-bottom: 0.4em;background-color: white;position: relative;}#sk-7622c42c-517b-45d9-9592-db72b99f9598 div.sk-label label {font-family: monospace;font-weight: bold;background-color: white;display: inline-block;line-height: 1.2em;}#sk-7622c42c-517b-45d9-9592-db72b99f9598 div.sk-label-container {position: relative;z-index: 2;text-align: center;}#sk-7622c42c-517b-45d9-9592-db72b99f9598 div.sk-container {/* jupyter's `normalize.less` sets `[hidden] { display: none; }` but bootstrap.min.css set `[hidden] { display: none !important; }` so we also need the `!important` here to be able to override the default hidden behavior on the sphinx rendered scikit-learn.org. See: https://github.com/scikit-learn/scikit-learn/issues/21755 */display: inline-block !important;position: relative;}#sk-7622c42c-517b-45d9-9592-db72b99f9598 div.sk-text-repr-fallback {display: none;}</style><div id=\"sk-7622c42c-517b-45d9-9592-db72b99f9598\" class=\"sk-top-container\"><div class=\"sk-text-repr-fallback\"><pre>GridSearchCV(cv=5,\n",
       "             estimator=Pipeline(steps=[(&#x27;trf1&#x27;,\n",
       "                                        ColumnTransformer(remainder=&#x27;passthrough&#x27;,\n",
       "                                                          transformers=[(&#x27;impute_age&#x27;,\n",
       "                                                                         SimpleImputer(),\n",
       "                                                                         [2]),\n",
       "                                                                        (&#x27;impute_embarked&#x27;,\n",
       "                                                                         SimpleImputer(strategy=&#x27;most_frequent&#x27;),\n",
       "                                                                         [6])])),\n",
       "                                       (&#x27;trf2&#x27;,\n",
       "                                        ColumnTransformer(remainder=&#x27;passthrough&#x27;,\n",
       "                                                          transformers=[(&#x27;ohe_sex_embarked&#x27;,\n",
       "                                                                         OneHotEncoder(handle_unknown=&#x27;ignore&#x27;,\n",
       "                                                                                       sparse=False),\n",
       "                                                                         [1,\n",
       "                                                                          6])])),\n",
       "                                       (&#x27;trf3&#x27;,\n",
       "                                        ColumnTransformer(transformers=[(&#x27;scale&#x27;,\n",
       "                                                                         MinMaxScaler(),\n",
       "                                                                         slice(0, 10, None))])),\n",
       "                                       (&#x27;trf4&#x27;,\n",
       "                                        SelectKBest(k=8,\n",
       "                                                    score_func=&lt;function chi2 at 0x000000892E063700&gt;)),\n",
       "                                       (&#x27;trf5&#x27;, DecisionTreeClassifier())]),\n",
       "             param_grid={&#x27;trf5__max_depth&#x27;: [1, 2, 3, 4, 5, None]},\n",
       "             scoring=&#x27;accuracy&#x27;)</pre><b>Please rerun this cell to show the HTML repr or trust the notebook.</b></div><div class=\"sk-container\" hidden><div class=\"sk-item sk-dashed-wrapped\"><div class=\"sk-label-container\"><div class=\"sk-label sk-toggleable\"><input class=\"sk-toggleable__control sk-hidden--visually\" id=\"09f2a126-1d32-4161-9228-2fbd7145d361\" type=\"checkbox\" ><label for=\"09f2a126-1d32-4161-9228-2fbd7145d361\" class=\"sk-toggleable__label sk-toggleable__label-arrow\">GridSearchCV</label><div class=\"sk-toggleable__content\"><pre>GridSearchCV(cv=5,\n",
       "             estimator=Pipeline(steps=[(&#x27;trf1&#x27;,\n",
       "                                        ColumnTransformer(remainder=&#x27;passthrough&#x27;,\n",
       "                                                          transformers=[(&#x27;impute_age&#x27;,\n",
       "                                                                         SimpleImputer(),\n",
       "                                                                         [2]),\n",
       "                                                                        (&#x27;impute_embarked&#x27;,\n",
       "                                                                         SimpleImputer(strategy=&#x27;most_frequent&#x27;),\n",
       "                                                                         [6])])),\n",
       "                                       (&#x27;trf2&#x27;,\n",
       "                                        ColumnTransformer(remainder=&#x27;passthrough&#x27;,\n",
       "                                                          transformers=[(&#x27;ohe_sex_embarked&#x27;,\n",
       "                                                                         OneHotEncoder(handle_unknown=&#x27;ignore&#x27;,\n",
       "                                                                                       sparse=False),\n",
       "                                                                         [1,\n",
       "                                                                          6])])),\n",
       "                                       (&#x27;trf3&#x27;,\n",
       "                                        ColumnTransformer(transformers=[(&#x27;scale&#x27;,\n",
       "                                                                         MinMaxScaler(),\n",
       "                                                                         slice(0, 10, None))])),\n",
       "                                       (&#x27;trf4&#x27;,\n",
       "                                        SelectKBest(k=8,\n",
       "                                                    score_func=&lt;function chi2 at 0x000000892E063700&gt;)),\n",
       "                                       (&#x27;trf5&#x27;, DecisionTreeClassifier())]),\n",
       "             param_grid={&#x27;trf5__max_depth&#x27;: [1, 2, 3, 4, 5, None]},\n",
       "             scoring=&#x27;accuracy&#x27;)</pre></div></div></div><div class=\"sk-parallel\"><div class=\"sk-parallel-item\"><div class=\"sk-item\"><div class=\"sk-serial\"><div class=\"sk-item\"><div class=\"sk-serial\"><div class=\"sk-item sk-dashed-wrapped\"><div class=\"sk-label-container\"><div class=\"sk-label sk-toggleable\"><input class=\"sk-toggleable__control sk-hidden--visually\" id=\"0611ceb9-3d80-4df7-8ca8-2257336980d1\" type=\"checkbox\" ><label for=\"0611ceb9-3d80-4df7-8ca8-2257336980d1\" class=\"sk-toggleable__label sk-toggleable__label-arrow\">trf1: ColumnTransformer</label><div class=\"sk-toggleable__content\"><pre>ColumnTransformer(remainder=&#x27;passthrough&#x27;,\n",
       "                  transformers=[(&#x27;impute_age&#x27;, SimpleImputer(), [2]),\n",
       "                                (&#x27;impute_embarked&#x27;,\n",
       "                                 SimpleImputer(strategy=&#x27;most_frequent&#x27;),\n",
       "                                 [6])])</pre></div></div></div><div class=\"sk-parallel\"><div class=\"sk-parallel-item\"><div class=\"sk-item\"><div class=\"sk-label-container\"><div class=\"sk-label sk-toggleable\"><input class=\"sk-toggleable__control sk-hidden--visually\" id=\"9ebb22a7-f3b1-4e27-b75e-04e60cf3ab4b\" type=\"checkbox\" ><label for=\"9ebb22a7-f3b1-4e27-b75e-04e60cf3ab4b\" class=\"sk-toggleable__label sk-toggleable__label-arrow\">impute_age</label><div class=\"sk-toggleable__content\"><pre>[2]</pre></div></div></div><div class=\"sk-serial\"><div class=\"sk-item\"><div class=\"sk-estimator sk-toggleable\"><input class=\"sk-toggleable__control sk-hidden--visually\" id=\"3b04ec23-d0e4-4615-97ce-cc1e7838a0ea\" type=\"checkbox\" ><label for=\"3b04ec23-d0e4-4615-97ce-cc1e7838a0ea\" class=\"sk-toggleable__label sk-toggleable__label-arrow\">SimpleImputer</label><div class=\"sk-toggleable__content\"><pre>SimpleImputer()</pre></div></div></div></div></div></div><div class=\"sk-parallel-item\"><div class=\"sk-item\"><div class=\"sk-label-container\"><div class=\"sk-label sk-toggleable\"><input class=\"sk-toggleable__control sk-hidden--visually\" id=\"37a4e669-c942-48fb-8c9a-e13a42060145\" type=\"checkbox\" ><label for=\"37a4e669-c942-48fb-8c9a-e13a42060145\" class=\"sk-toggleable__label sk-toggleable__label-arrow\">impute_embarked</label><div class=\"sk-toggleable__content\"><pre>[6]</pre></div></div></div><div class=\"sk-serial\"><div class=\"sk-item\"><div class=\"sk-estimator sk-toggleable\"><input class=\"sk-toggleable__control sk-hidden--visually\" id=\"56575dee-70ce-4ac2-88b8-974a6b288057\" type=\"checkbox\" ><label for=\"56575dee-70ce-4ac2-88b8-974a6b288057\" class=\"sk-toggleable__label sk-toggleable__label-arrow\">SimpleImputer</label><div class=\"sk-toggleable__content\"><pre>SimpleImputer(strategy=&#x27;most_frequent&#x27;)</pre></div></div></div></div></div></div><div class=\"sk-parallel-item\"><div class=\"sk-item\"><div class=\"sk-label-container\"><div class=\"sk-label sk-toggleable\"><input class=\"sk-toggleable__control sk-hidden--visually\" id=\"9ea5eb7d-532d-4026-95aa-e589c7780057\" type=\"checkbox\" ><label for=\"9ea5eb7d-532d-4026-95aa-e589c7780057\" class=\"sk-toggleable__label sk-toggleable__label-arrow\">remainder</label><div class=\"sk-toggleable__content\"><pre>[&#x27;Pclass&#x27;, &#x27;Sex&#x27;, &#x27;SibSp&#x27;, &#x27;Parch&#x27;, &#x27;Fare&#x27;]</pre></div></div></div><div class=\"sk-serial\"><div class=\"sk-item\"><div class=\"sk-estimator sk-toggleable\"><input class=\"sk-toggleable__control sk-hidden--visually\" id=\"7c7d1d7d-b421-43e3-89fc-dddd814bafda\" type=\"checkbox\" ><label for=\"7c7d1d7d-b421-43e3-89fc-dddd814bafda\" class=\"sk-toggleable__label sk-toggleable__label-arrow\">passthrough</label><div class=\"sk-toggleable__content\"><pre>passthrough</pre></div></div></div></div></div></div></div></div><div class=\"sk-item sk-dashed-wrapped\"><div class=\"sk-label-container\"><div class=\"sk-label sk-toggleable\"><input class=\"sk-toggleable__control sk-hidden--visually\" id=\"b99afac5-c11d-4463-99ea-82de181b4205\" type=\"checkbox\" ><label for=\"b99afac5-c11d-4463-99ea-82de181b4205\" class=\"sk-toggleable__label sk-toggleable__label-arrow\">trf2: ColumnTransformer</label><div class=\"sk-toggleable__content\"><pre>ColumnTransformer(remainder=&#x27;passthrough&#x27;,\n",
       "                  transformers=[(&#x27;ohe_sex_embarked&#x27;,\n",
       "                                 OneHotEncoder(handle_unknown=&#x27;ignore&#x27;,\n",
       "                                               sparse=False),\n",
       "                                 [1, 6])])</pre></div></div></div><div class=\"sk-parallel\"><div class=\"sk-parallel-item\"><div class=\"sk-item\"><div class=\"sk-label-container\"><div class=\"sk-label sk-toggleable\"><input class=\"sk-toggleable__control sk-hidden--visually\" id=\"a2145a1d-e4ae-46dd-8099-b6c5fc189878\" type=\"checkbox\" ><label for=\"a2145a1d-e4ae-46dd-8099-b6c5fc189878\" class=\"sk-toggleable__label sk-toggleable__label-arrow\">ohe_sex_embarked</label><div class=\"sk-toggleable__content\"><pre>[1, 6]</pre></div></div></div><div class=\"sk-serial\"><div class=\"sk-item\"><div class=\"sk-estimator sk-toggleable\"><input class=\"sk-toggleable__control sk-hidden--visually\" id=\"b576963c-94a9-461a-a8c4-d0b0a67eeb66\" type=\"checkbox\" ><label for=\"b576963c-94a9-461a-a8c4-d0b0a67eeb66\" class=\"sk-toggleable__label sk-toggleable__label-arrow\">OneHotEncoder</label><div class=\"sk-toggleable__content\"><pre>OneHotEncoder(handle_unknown=&#x27;ignore&#x27;, sparse=False)</pre></div></div></div></div></div></div><div class=\"sk-parallel-item\"><div class=\"sk-item\"><div class=\"sk-label-container\"><div class=\"sk-label sk-toggleable\"><input class=\"sk-toggleable__control sk-hidden--visually\" id=\"0d8c502c-ca21-47fe-9d7a-42fdd3e6c536\" type=\"checkbox\" ><label for=\"0d8c502c-ca21-47fe-9d7a-42fdd3e6c536\" class=\"sk-toggleable__label sk-toggleable__label-arrow\">remainder</label><div class=\"sk-toggleable__content\"><pre>[0, 2, 3, 4, 5]</pre></div></div></div><div class=\"sk-serial\"><div class=\"sk-item\"><div class=\"sk-estimator sk-toggleable\"><input class=\"sk-toggleable__control sk-hidden--visually\" id=\"84e64c18-5f08-41ee-af30-a6f0b3a2bd2b\" type=\"checkbox\" ><label for=\"84e64c18-5f08-41ee-af30-a6f0b3a2bd2b\" class=\"sk-toggleable__label sk-toggleable__label-arrow\">passthrough</label><div class=\"sk-toggleable__content\"><pre>passthrough</pre></div></div></div></div></div></div></div></div><div class=\"sk-item sk-dashed-wrapped\"><div class=\"sk-label-container\"><div class=\"sk-label sk-toggleable\"><input class=\"sk-toggleable__control sk-hidden--visually\" id=\"43a71c48-33be-491f-b607-8dd1a7ee3177\" type=\"checkbox\" ><label for=\"43a71c48-33be-491f-b607-8dd1a7ee3177\" class=\"sk-toggleable__label sk-toggleable__label-arrow\">trf3: ColumnTransformer</label><div class=\"sk-toggleable__content\"><pre>ColumnTransformer(transformers=[(&#x27;scale&#x27;, MinMaxScaler(), slice(0, 10, None))])</pre></div></div></div><div class=\"sk-parallel\"><div class=\"sk-parallel-item\"><div class=\"sk-item\"><div class=\"sk-label-container\"><div class=\"sk-label sk-toggleable\"><input class=\"sk-toggleable__control sk-hidden--visually\" id=\"0eecf9ec-bf4e-48da-b8fc-891c750fc6d5\" type=\"checkbox\" ><label for=\"0eecf9ec-bf4e-48da-b8fc-891c750fc6d5\" class=\"sk-toggleable__label sk-toggleable__label-arrow\">scale</label><div class=\"sk-toggleable__content\"><pre>slice(0, 10, None)</pre></div></div></div><div class=\"sk-serial\"><div class=\"sk-item\"><div class=\"sk-estimator sk-toggleable\"><input class=\"sk-toggleable__control sk-hidden--visually\" id=\"ce7ec300-574a-4b39-8593-05a8f749b13a\" type=\"checkbox\" ><label for=\"ce7ec300-574a-4b39-8593-05a8f749b13a\" class=\"sk-toggleable__label sk-toggleable__label-arrow\">MinMaxScaler</label><div class=\"sk-toggleable__content\"><pre>MinMaxScaler()</pre></div></div></div></div></div></div></div></div><div class=\"sk-item\"><div class=\"sk-estimator sk-toggleable\"><input class=\"sk-toggleable__control sk-hidden--visually\" id=\"0fbcabe5-adcb-4da2-8042-124baa353db5\" type=\"checkbox\" ><label for=\"0fbcabe5-adcb-4da2-8042-124baa353db5\" class=\"sk-toggleable__label sk-toggleable__label-arrow\">SelectKBest</label><div class=\"sk-toggleable__content\"><pre>SelectKBest(k=8, score_func=&lt;function chi2 at 0x000000892E063700&gt;)</pre></div></div></div><div class=\"sk-item\"><div class=\"sk-estimator sk-toggleable\"><input class=\"sk-toggleable__control sk-hidden--visually\" id=\"581a8dd8-98ba-4963-a5a1-8085361eb110\" type=\"checkbox\" ><label for=\"581a8dd8-98ba-4963-a5a1-8085361eb110\" class=\"sk-toggleable__label sk-toggleable__label-arrow\">DecisionTreeClassifier</label><div class=\"sk-toggleable__content\"><pre>DecisionTreeClassifier()</pre></div></div></div></div></div></div></div></div></div></div></div></div>"
      ],
      "text/plain": [
       "GridSearchCV(cv=5,\n",
       "             estimator=Pipeline(steps=[('trf1',\n",
       "                                        ColumnTransformer(remainder='passthrough',\n",
       "                                                          transformers=[('impute_age',\n",
       "                                                                         SimpleImputer(),\n",
       "                                                                         [2]),\n",
       "                                                                        ('impute_embarked',\n",
       "                                                                         SimpleImputer(strategy='most_frequent'),\n",
       "                                                                         [6])])),\n",
       "                                       ('trf2',\n",
       "                                        ColumnTransformer(remainder='passthrough',\n",
       "                                                          transformers=[('ohe_sex_embarked',\n",
       "                                                                         OneHotEncoder(handle_unknown='ignore',\n",
       "                                                                                       sparse=False),\n",
       "                                                                         [1,\n",
       "                                                                          6])])),\n",
       "                                       ('trf3',\n",
       "                                        ColumnTransformer(transformers=[('scale',\n",
       "                                                                         MinMaxScaler(),\n",
       "                                                                         slice(0, 10, None))])),\n",
       "                                       ('trf4',\n",
       "                                        SelectKBest(k=8,\n",
       "                                                    score_func=<function chi2 at 0x000000892E063700>)),\n",
       "                                       ('trf5', DecisionTreeClassifier())]),\n",
       "             param_grid={'trf5__max_depth': [1, 2, 3, 4, 5, None]},\n",
       "             scoring='accuracy')"
      ]
     },
     "execution_count": 27,
     "metadata": {},
     "output_type": "execute_result"
    }
   ],
   "source": [
    "from sklearn.model_selection import GridSearchCV\n",
    "grid = GridSearchCV(pipe, params, cv=5, scoring='accuracy')\n",
    "grid.fit(X_train, y_train)"
   ]
  },
  {
   "cell_type": "code",
   "execution_count": 28,
   "metadata": {},
   "outputs": [
    {
     "data": {
      "text/plain": [
       "0.6391214419383433"
      ]
     },
     "execution_count": 28,
     "metadata": {},
     "output_type": "execute_result"
    }
   ],
   "source": [
    "grid.best_score_"
   ]
  },
  {
   "cell_type": "code",
   "execution_count": 30,
   "metadata": {},
   "outputs": [
    {
     "data": {
      "text/plain": [
       "{'trf5__max_depth': 2}"
      ]
     },
     "execution_count": 30,
     "metadata": {},
     "output_type": "execute_result"
    }
   ],
   "source": [
    "grid.best_params_"
   ]
  },
  {
   "cell_type": "markdown",
   "metadata": {},
   "source": [
    "# Exporting the Pipeline"
   ]
  },
  {
   "cell_type": "code",
   "execution_count": 33,
   "metadata": {},
   "outputs": [],
   "source": [
    "# export \n",
    "import pickle\n",
    "pickle.dump(pipe,open('pipe.pkl','wb'))"
   ]
  },
  {
   "cell_type": "code",
   "execution_count": null,
   "metadata": {},
   "outputs": [],
   "source": []
  }
 ],
 "metadata": {
  "kernelspec": {
   "display_name": "Python 3 (ipykernel)",
   "language": "python",
   "name": "python3"
  },
  "language_info": {
   "codemirror_mode": {
    "name": "ipython",
    "version": 3
   },
   "file_extension": ".py",
   "mimetype": "text/x-python",
   "name": "python",
   "nbconvert_exporter": "python",
   "pygments_lexer": "ipython3",
   "version": "3.9.12"
  }
 },
 "nbformat": 4,
 "nbformat_minor": 4
}
